{
 "cells": [
  {
   "cell_type": "markdown",
   "metadata": {},
   "source": [
    "# U.S. Medical Insurance Costs"
   ]
  },
  {
   "cell_type": "markdown",
   "metadata": {},
   "source": [
    "In this project, I try to explore the insurance dataset."
   ]
  },
  {
   "cell_type": "code",
   "execution_count": 1,
   "metadata": {},
   "outputs": [],
   "source": [
    "# import library\n",
    "import csv"
   ]
  },
  {
   "cell_type": "code",
   "execution_count": 17,
   "metadata": {},
   "outputs": [],
   "source": [
    "# create empty lists for variables\n",
    "ages = []\n",
    "sexes = []\n",
    "bmis = []\n",
    "num_children = []\n",
    "smoker_statuses = []\n",
    "regions = []\n",
    "insurance_charges = []"
   ]
  },
  {
   "cell_type": "code",
   "execution_count": 24,
   "metadata": {},
   "outputs": [],
   "source": [
    "# read data function\n",
    "def read_columns(file, var_name, lst):\n",
    "    with open(file) as insurance_data:\n",
    "        insurance_dict = csv.DictReader(insurance_data)\n",
    "        for row in insurance_dict:\n",
    "            lst.append(row[var_name])\n",
    "    return lst"
   ]
  },
  {
   "cell_type": "code",
   "execution_count": 25,
   "metadata": {},
   "outputs": [],
   "source": [
    "var_names = ['age', 'sex', 'bmi', 'children', 'smoker', 'region', 'charges']\n",
    "col_names = [ages, sexes, bmis, num_children, smoker_statuses, regions, insurance_charges]"
   ]
  },
  {
   "cell_type": "code",
   "execution_count": 27,
   "metadata": {},
   "outputs": [],
   "source": [
    "# read columns\n",
    "i = 0\n",
    "while i <7:\n",
    "    read_columns('insurance.csv', var_names[i], col_names[i])\n",
    "    i += 1"
   ]
  },
  {
   "cell_type": "markdown",
   "metadata": {},
   "source": [
    "Define a class with functions that can give average age, number of males and female, region"
   ]
  },
  {
   "cell_type": "code",
   "execution_count": 71,
   "metadata": {},
   "outputs": [],
   "source": [
    "class patients:\n",
    "    def __init__(self, patients_ages, patients_sexes, patients_bmis, patients_num_children, \n",
    "                 patients_smoker_statuses, patients_regions, patients_charges):\n",
    "        self.patients_ages = patients_ages\n",
    "        self.patients_sexes = patients_sexes\n",
    "        self.patients_bmis = patients_bmis\n",
    "        self.patients_num_children = patients_num_children\n",
    "        self.patients_smoker_statuses = patients_smoker_statuses\n",
    "        self.patients_regions = patients_regions\n",
    "        self.patients_charges = patients_charges\n",
    "        \n",
    "# average age\n",
    "    def avg_age(self):\n",
    "        total_age = 0\n",
    "        for i in self.patients_ages:\n",
    "            total_age += int(i)\n",
    "        avg_age = round(total_age/len(self.patients_ages), 2)\n",
    "        return ('average age is ', avg_age)\n",
    "    \n",
    "# number of males and females\n",
    "    def num_gender(self):\n",
    "        num_female = 0\n",
    "        num_male = 0\n",
    "        for i in self.patients_sexes:\n",
    "            if i == 'female':\n",
    "                num_female += 1\n",
    "            else:\n",
    "                num_male += 1\n",
    "        return ('number of female is ', num_female, ' number of male is ', num_male)\n",
    "    \n",
    "# unique regions\n",
    "    def unique_regions(self):\n",
    "        unique_regions = []\n",
    "        for i in self.patients_regions:\n",
    "            if i not in unique_regions:\n",
    "                unique_regions.append(i)\n",
    "            else:\n",
    "                continue\n",
    "        return unique_regions\n",
    "    "
   ]
  },
  {
   "cell_type": "code",
   "execution_count": 72,
   "metadata": {},
   "outputs": [],
   "source": [
    "# create instance\n",
    "patient_info = patients(ages, sexes, bmis, num_children, smoker_statuses, regions, insurance_charges)"
   ]
  },
  {
   "cell_type": "code",
   "execution_count": null,
   "metadata": {},
   "outputs": [],
   "source": []
  },
  {
   "cell_type": "code",
   "execution_count": 70,
   "metadata": {},
   "outputs": [
    {
     "data": {
      "text/plain": [
       "('average age is ', 39.21)"
      ]
     },
     "execution_count": 70,
     "metadata": {},
     "output_type": "execute_result"
    }
   ],
   "source": [
    "# average age\n",
    "patient_info.avg_age()"
   ]
  },
  {
   "cell_type": "code",
   "execution_count": 64,
   "metadata": {},
   "outputs": [
    {
     "data": {
      "text/plain": [
       "('number of female is ', 1324, ' number of male is ', 1352)"
      ]
     },
     "execution_count": 64,
     "metadata": {},
     "output_type": "execute_result"
    }
   ],
   "source": [
    "# number of male female\n",
    "patient_info.num_gender()"
   ]
  },
  {
   "cell_type": "code",
   "execution_count": 73,
   "metadata": {},
   "outputs": [
    {
     "data": {
      "text/plain": [
       "['southwest', 'southeast', 'northwest', 'northeast']"
      ]
     },
     "execution_count": 73,
     "metadata": {},
     "output_type": "execute_result"
    }
   ],
   "source": [
    "# unique regions\n",
    "patient_info.unique_regions()"
   ]
  },
  {
   "cell_type": "code",
   "execution_count": null,
   "metadata": {},
   "outputs": [],
   "source": []
  }
 ],
 "metadata": {
  "kernelspec": {
   "display_name": "Python 3",
   "language": "python",
   "name": "python3"
  },
  "language_info": {
   "codemirror_mode": {
    "name": "ipython",
    "version": 3
   },
   "file_extension": ".py",
   "mimetype": "text/x-python",
   "name": "python",
   "nbconvert_exporter": "python",
   "pygments_lexer": "ipython3",
   "version": "3.8.8"
  }
 },
 "nbformat": 4,
 "nbformat_minor": 4
}
